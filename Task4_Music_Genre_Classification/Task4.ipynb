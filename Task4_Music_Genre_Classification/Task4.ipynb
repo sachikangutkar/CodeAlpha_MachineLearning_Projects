{
 "cells": [
  {
   "cell_type": "code",
   "execution_count": null,
   "id": "7253aa16-0986-4bcb-affb-350bd581016b",
   "metadata": {},
   "outputs": [],
   "source": [
    "# TASK 4: Music Genre Classification\n",
    "# CodeAlpha - Machine Learning Internship\n",
    "\n",
    "# Step 1: Import libraries\n",
    "import pandas as pd\n",
    "from sklearn.model_selection import train_test_split\n",
    "from sklearn.preprocessing import LabelEncoder, StandardScaler\n",
    "from sklearn.ensemble import RandomForestClassifier\n",
    "from sklearn.metrics import classification_report, accuracy_score\n",
    "\n",
    "# Step 2: Create simple dataset\n",
    "data = {\n",
    "    \"tempo\": [120, 150, 90, 130, 80, 140, 110, 100],\n",
    "    \"beats\": [4, 5, 3, 4, 2, 5, 3, 3],\n",
    "    \"duration\": [210, 180, 240, 200, 260, 170, 230, 250],\n",
    "    \"genre\": [\"Pop\", \"Rock\", \"Classical\", \"Pop\", \"Classical\", \"Rock\", \"Pop\", \"Classical\"]\n",
    "}\n",
    "\n",
    "df = pd.DataFrame(data)\n",
    "\n",
    "# Step 3: Encode target\n",
    "label_encoder = LabelEncoder()\n",
    "df[\"genre_encoded\"] = label_encoder.fit_transform(df[\"genre\"])\n",
    "\n",
    "# Step 4: Split data\n",
    "X = df[[\"tempo\", \"beats\", \"duration\"]]\n",
    "y = df[\"genre_encoded\"]\n",
    "X_train, X_test, y_train, y_test = train_test_split(X, y, test_size=0.25, random_state=42)\n",
    "\n",
    "# Step 5: Scale features\n",
    "scaler = StandardScaler()\n",
    "X_train = scaler.fit_transform(X_train)\n",
    "X_test = scaler.transform(X_test)\n",
    "\n",
    "# Step 6: Train model\n",
    "model = RandomForestClassifier(random_state=42)\n",
    "model.fit(X_train, y_train)\n",
    "\n",
    "# Step 7: Evaluate\n",
    "y_pred = model.predict(X_test)\n",
    "print(\"\\nClassification Report:\\n\", classification_report(y_test, y_pred))\n",
    "print(\"Accuracy:\", accuracy_score(y_test, y_pred))"
   ]
  }
 ],
 "metadata": {
  "kernelspec": {
   "display_name": "Python 3 (ipykernel)",
   "language": "python",
   "name": "python3"
  },
  "language_info": {
   "codemirror_mode": {
    "name": "ipython",
    "version": 3
   },
   "file_extension": ".py",
   "mimetype": "text/x-python",
   "name": "python",
   "nbconvert_exporter": "python",
   "pygments_lexer": "ipython3",
   "version": "3.13.0"
  }
 },
 "nbformat": 4,
 "nbformat_minor": 5
}
