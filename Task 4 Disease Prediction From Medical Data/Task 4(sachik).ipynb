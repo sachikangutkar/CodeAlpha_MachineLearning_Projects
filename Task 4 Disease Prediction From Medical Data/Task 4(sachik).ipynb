{
 "cells": [
  {
   "cell_type": "code",
   "execution_count": 3,
   "id": "d07f4619-1b79-4f29-aee1-051e5bcd8278",
   "metadata": {},
   "outputs": [
    {
     "name": "stderr",
     "output_type": "stream",
     "text": [
      "\n",
      "[notice] A new release of pip is available: 24.2 -> 25.3\n",
      "[notice] To update, run: python.exe -m pip install --upgrade pip\n"
     ]
    },
    {
     "name": "stdout",
     "output_type": "stream",
     "text": [
      "Dataset preview:\n",
      "        age  symptom_score  blood_test_1  blood_test_2  blood_test_3  \\\n",
      "0 -0.141672      -0.854691     -2.428524     -0.985944     -0.276859   \n",
      "1 -0.155660      -1.945939      2.957537     -2.924643      0.595406   \n",
      "2 -0.580224       1.181034     -0.985934     -1.197192     -0.146491   \n",
      "3 -0.790385       1.758204     -1.775463     -0.051727      1.650230   \n",
      "4 -0.512209       0.462537     -1.110117     -2.064864     -0.930408   \n",
      "\n",
      "        bmi  blood_pressure  cholesterol   glucose  smoking_status  disease  \n",
      "0 -1.780009       -0.582772     2.753086 -2.228598        1.719410        1  \n",
      "1  3.191508       -1.363597    -7.661843  7.371203       -2.197920        0  \n",
      "2  0.020389       -0.031219    -0.542246 -0.320481       -0.830218        0  \n",
      "3  1.772357        0.154436    -0.175627  0.682166       -1.107111        0  \n",
      "4  1.211368        0.261978    -2.352889  1.189882       -0.446651        1  \n"
     ]
    },
    {
     "name": "stderr",
     "output_type": "stream",
     "text": [
      "C:\\Users\\Lenovo\\AppData\\Local\\Programs\\Python\\Python313\\Lib\\site-packages\\xgboost\\training.py:199: UserWarning: [16:41:34] WARNING: C:\\actions-runner\\_work\\xgboost\\xgboost\\src\\learner.cc:790: \n",
      "Parameters: { \"use_label_encoder\" } are not used.\n",
      "\n",
      "  bst.update(dtrain, iteration=i, fobj=obj)\n"
     ]
    },
    {
     "name": "stdout",
     "output_type": "stream",
     "text": [
      "\n",
      "LogisticRegression Classification Report:\n",
      "              precision    recall  f1-score   support\n",
      "\n",
      "           0     0.6518    0.7451    0.6954       412\n",
      "           1     0.6237    0.5148    0.5640       338\n",
      "\n",
      "    accuracy                         0.6413       750\n",
      "   macro avg     0.6377    0.6300    0.6297       750\n",
      "weighted avg     0.6391    0.6413    0.6362       750\n",
      "\n",
      "LogisticRegression ROC-AUC: 0.6755\n",
      "\n",
      "RandomForest Classification Report:\n",
      "              precision    recall  f1-score   support\n",
      "\n",
      "           0     0.9328    0.9102    0.9214       412\n",
      "           1     0.8937    0.9201    0.9067       338\n",
      "\n",
      "    accuracy                         0.9147       750\n",
      "   macro avg     0.9133    0.9152    0.9140       750\n",
      "weighted avg     0.9152    0.9147    0.9148       750\n",
      "\n",
      "RandomForest ROC-AUC: 0.9641\n",
      "\n",
      "XGBoost Classification Report:\n",
      "              precision    recall  f1-score   support\n",
      "\n",
      "           0     0.9242    0.9175    0.9208       412\n",
      "           1     0.9003    0.9083    0.9043       338\n",
      "\n",
      "    accuracy                         0.9133       750\n",
      "   macro avg     0.9122    0.9129    0.9125       750\n",
      "weighted avg     0.9134    0.9133    0.9134       750\n",
      "\n",
      "XGBoost ROC-AUC: 0.9640\n",
      "\n",
      "RandomForest feature importances:\n",
      "symptom_score     0.164468\n",
      "cholesterol       0.163209\n",
      "bmi               0.133933\n",
      "blood_test_1      0.124631\n",
      "blood_test_2      0.102602\n",
      "glucose           0.096902\n",
      "blood_test_3      0.082634\n",
      "smoking_status    0.071042\n",
      "blood_pressure    0.030637\n",
      "age               0.029942\n",
      "dtype: float64\n"
     ]
    },
    {
     "data": {
      "image/png": "[encoded data removed]",
      "text/plain": [
       "<Figure size 800x400 with 1 Axes>"
      ]
     },
     "metadata": {},
     "output_type": "display_data"
    },
    {
     "name": "stdout",
     "output_type": "stream",
     "text": [
      "Saved scaler and RandomForest model.\n"
     ]
    }
   ],
   "source": [
    "# Task 4: Disease Prediction (synthetic medical dataset)\n",
    "# Run in Jupyter.\n",
    "\n",
    "!pip install -q scikit-learn xgboost pandas matplotlib\n",
    "\n",
    "import numpy as np\n",
    "import pandas as pd\n",
    "from sklearn.datasets import make_classification\n",
    "from sklearn.model_selection import train_test_split\n",
    "from sklearn.preprocessing import StandardScaler\n",
    "from sklearn.linear_model import LogisticRegression\n",
    "from sklearn.ensemble import RandomForestClassifier\n",
    "from sklearn.metrics import classification_report, roc_auc_score, confusion_matrix\n",
    "import matplotlib.pyplot as plt\n",
    "import joblib\n",
    "\n",
    "# Try to import xgboost (optional)\n",
    "try:\n",
    "    import xgboost as xgb\n",
    "    has_xgb = True\n",
    "except Exception as e:\n",
    "    print(\"xgboost not available; will skip XGBoost model. Error:\", e)\n",
    "    has_xgb = False\n",
    "\n",
    "# 1) Create synthetic medical dataset\n",
    "# Features named to mimic medical data (age, symptoms, blood_test1, etc.)\n",
    "X, y = make_classification(n_samples=3000, n_features=10, n_informative=6, n_redundant=2,\n",
    "                           n_clusters_per_class=2, weights=[0.55, 0.45], flip_y=0.02, random_state=7)\n",
    "\n",
    "feature_names = ['age', 'symptom_score', 'blood_test_1', 'blood_test_2', 'blood_test_3',\n",
    "                 'bmi', 'blood_pressure', 'cholesterol', 'glucose', 'smoking_status']\n",
    "df = pd.DataFrame(X, columns=feature_names)\n",
    "df['disease'] = y\n",
    "print(\"Dataset preview:\")\n",
    "print(df.head())\n",
    "\n",
    "# 2) Split and scale\n",
    "X = df[feature_names].values\n",
    "y = df['disease'].values\n",
    "X_train, X_test, y_train, y_test = train_test_split(X, y, test_size=0.25, stratify=y, random_state=42)\n",
    "\n",
    "scaler = StandardScaler().fit(X_train)\n",
    "X_train_s = scaler.transform(X_train)\n",
    "X_test_s = scaler.transform(X_test)\n",
    "\n",
    "# 3) Train models\n",
    "log = LogisticRegression(max_iter=1000, random_state=42)\n",
    "rf = RandomForestClassifier(n_estimators=200, random_state=42)\n",
    "\n",
    "log.fit(X_train_s, y_train)\n",
    "rf.fit(X_train_s, y_train)\n",
    "\n",
    "models = {\"LogisticRegression\": log, \"RandomForest\": rf}\n",
    "\n",
    "if has_xgb:\n",
    "    xg = xgb.XGBClassifier(use_label_encoder=False, eval_metric='logloss', random_state=42)\n",
    "    xg.fit(X_train_s, y_train)\n",
    "    models['XGBoost'] = xg\n",
    "\n",
    "# 4) Evaluate\n",
    "for name, model in models.items():\n",
    "    y_pred = model.predict(X_test_s)\n",
    "    y_proba = model.predict_proba(X_test_s)[:,1] if hasattr(model, \"predict_proba\") else None\n",
    "    print(f\"\\n{name} Classification Report:\")\n",
    "    print(classification_report(y_test, y_pred, digits=4))\n",
    "    if y_proba is not None:\n",
    "        print(f\"{name} ROC-AUC: {roc_auc_score(y_test, y_proba):.4f}\")\n",
    "\n",
    "# 5) Feature importance (RandomForest)\n",
    "importances = rf.feature_importances_\n",
    "feat_imp = pd.Series(importances, index=feature_names).sort_values(ascending=False)\n",
    "print(\"\\nRandomForest feature importances:\")\n",
    "print(feat_imp)\n",
    "\n",
    "plt.figure(figsize=(8,4))\n",
    "feat_imp.plot(kind='bar')\n",
    "plt.title(\"Feature Importances (RandomForest)\")\n",
    "plt.show()\n",
    "\n",
    "# 6) Save best model (based on ROC-AUC roughly)\n",
    "best_model = rf\n",
    "joblib.dump(scaler, \"disease_scaler.joblib\")\n",
    "joblib.dump(best_model, \"disease_random_forest.joblib\")\n",
    "print(\"Saved scaler and RandomForest model.\")\n"
   ]
  },
  {
   "cell_type": "code",
   "execution_count": null,
   "id": "72ff1e81-ed0a-4b72-9d6c-6716da2bd03e",
   "metadata": {},
   "outputs": [],
   "source": []
  }
 ],
 "metadata": {
  "kernelspec": {
   "display_name": "Python 3 (ipykernel)",
   "language": "python",
   "name": "python3"
  },
  "language_info": {
   "codemirror_mode": {
    "name": "ipython",
    "version": 3
   },
   "file_extension": ".py",
   "mimetype": "text/x-python",
   "name": "python",
   "nbconvert_exporter": "python",
   "pygments_lexer": "ipython3",
   "version": "3.13.0"
  }
 },
 "nbformat": 4,
 "nbformat_minor": 5
}
